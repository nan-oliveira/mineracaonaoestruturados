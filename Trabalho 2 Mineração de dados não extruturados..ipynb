{
 "cells": [
  {
   "cell_type": "markdown",
   "id": "aa6cca59",
   "metadata": {
    "id": "UfHOmxe-zzO8"
   },
   "source": [
    "# SCC0287 - Mineração de Dados Não Estruturados\n",
    "\n",
    "# Trabalho 2 - Mineração de texto\n",
    "\n",
    "# Classificando 10 tipos diferentes de animais."
   ]
  },
  {
   "cell_type": "markdown",
   "id": "640c4148",
   "metadata": {
    "id": "R68mhA720ioG"
   },
   "source": [
    "*Baseado nos códigos e conteúdos apresentados em aula.*"
   ]
  },
  {
   "cell_type": "markdown",
   "id": "0cd85449",
   "metadata": {
    "id": "NYv_l3mn0HzV"
   },
   "source": [
    "## Grupo:"
   ]
  },
  {
   "cell_type": "markdown",
   "id": "ea6afe56",
   "metadata": {
    "id": "IT0Ceyao0Nu5"
   },
   "source": [
    "**Alvaro Valentim P M Bandeira, Nº USP 10392150**\n",
    "\n",
    "Bacharelado em Estatística e Ciência de Dados\n",
    "\n",
    "email: avalentim98@usp.br\n",
    "\n",
    "github: https://github.com/ValentAlv\n",
    "\n",
    "**Douglas Decicino de Andrade, Nº USP 10883512**\n",
    "\n",
    "Bacharelado em Estatística e Ciência de Dados\n",
    "\n",
    "email: douglasdecicino@usp.br\n",
    "\n",
    "github: https://github.com/decicino\n",
    "\n",
    "\n",
    "**Renan de Oliveira da Cruz, Nº USP 10801090**\n",
    "\n",
    "Bacharelado em Estatística e Ciência de Dados\n",
    "\n",
    "email: r_oliveira@usp.br\n",
    "\n",
    "github: https://github.com/nan-oliveira\n"
   ]
  },
  {
   "cell_type": "markdown",
   "id": "0894183e",
   "metadata": {
    "id": "9H8iGI2Mxiw3"
   },
   "source": [
    "Link do vídeo: https://drive.google.com/file/d/1UerpNAEkE022Q2Rf6FYr2U7GW8b88wIp/view?usp=sharing\n"
   ]
  },
  {
   "cell_type": "markdown",
   "id": "1aafc74d",
   "metadata": {
    "id": "Pk2svV6QqTxX"
   },
   "source": [
    "## Importando Bibliotecas"
   ]
  },
  {
   "cell_type": "code",
   "execution_count": 1,
   "id": "9ed46454",
   "metadata": {},
   "outputs": [],
   "source": [
    "import os\n",
    "import matplotlib.pylab as plt\n",
    "import cv2 as cv\n",
    "import numpy as np\n",
    "import pandas as pd\n",
    "import mahotas as mt\n",
    "from os import listdir\n",
    "from os.path import isfile, join\n",
    "from sklearn.neighbors import KNeighborsClassifier\n",
    "from sklearn.preprocessing import StandardScaler, LabelEncoder\n",
    "from sklearn.model_selection import train_test_split, RandomizedSearchCV\n",
    "from sklearn.ensemble import RandomForestClassifier\n",
    "from skimage import io\n",
    "import cv2\n",
    "import PIL\n",
    "from PIL import Image\n",
    "import seaborn as sns\n",
    "from keras.models import Sequential\n",
    "from keras.layers import Dense, Conv2D, MaxPooling2D, Flatten, Activation, Dropout\n",
    "from keras.utils import to_categorical"
   ]
  },
  {
   "cell_type": "markdown",
   "id": "de22d700",
   "metadata": {
    "id": "6MYXdmP7fElG"
   },
   "source": [
    "# Dataset"
   ]
  },
  {
   "cell_type": "markdown",
   "id": "f97c137e",
   "metadata": {},
   "source": [
    "O dataset utilizado foi o dataset Animals-10 (https://www.kaggle.com/alessiocorrado99/animals10). Ele contém cerca de 26 mil imagens de qualidade média de animais pertencentes a 10 categorias: cachorro, gato, cavalo, aranha, borboleta, galinha, ovelha, vaca, esquilo e elefante. O objetivo da mineração de imagens aqui, é utilizar diferentes etapas de pré-processamento e abordagens de extração de padrões para encontrar aquela que nos dá o melhor resultado na tarefa de classificar estes animais."
   ]
  },
  {
   "cell_type": "markdown",
   "id": "e4c96eec",
   "metadata": {
    "id": "EbXWIEt4Sap2"
   },
   "source": [
    "# Gerando o dataset"
   ]
  },
  {
   "cell_type": "markdown",
   "id": "e04fc26c",
   "metadata": {},
   "source": [
    "Criando uma função para ler as imagens do diretório e adicionar a uma lista"
   ]
  },
  {
   "cell_type": "code",
   "execution_count": 4,
   "id": "79b16acb",
   "metadata": {},
   "outputs": [],
   "source": [
    "directory = 'data/'\n",
    "dataset = []\n",
    "for filename in os.listdir(directory):\n",
    "    mypath = 'data/' + str(filename) + '/' \n",
    "    files = [f for f in listdir(mypath) if isfile(join(mypath, f))]\n",
    "    for img in files:\n",
    "        image = io.imread(mypath+img)\n",
    "        image = cv2.cvtColor(image, cv2.COLOR_BGR2RGB)\n",
    "        dataset.append(image)"
   ]
  },
  {
   "cell_type": "markdown",
   "id": "18733090",
   "metadata": {},
   "source": [
    "# Pré-processando via Histograma de Cores."
   ]
  },
  {
   "cell_type": "markdown",
   "id": "37621c95",
   "metadata": {},
   "source": [
    "Vamos definir a função utilizada para gerar as features deste tipo de pré-processamento."
   ]
  },
  {
   "cell_type": "code",
   "execution_count": 5,
   "id": "86fd61c9",
   "metadata": {},
   "outputs": [],
   "source": [
    "color = ('b','g','r')\n",
    "\n",
    "dataset_hist_r = []\n",
    "dataset_hist_g = []\n",
    "dataset_hist_b = []\n",
    "\n",
    "counter = 0\n",
    "for image in dataset:\n",
    "    hists = {}\n",
    "    for i,col in enumerate(color):\n",
    "        histr = cv.calcHist([image],[i],None,[256],[0,256])\n",
    "        if col == 'r': dataset_hist_r.append(histr)\n",
    "        if col == 'g': dataset_hist_g.append(histr)\n",
    "        if col == 'b': dataset_hist_b.append(histr)\n",
    "\n",
    "\n",
    "X_r = np.array(dataset_hist_r)\n",
    "length = np.sqrt((X_r**2).sum(axis=1))[:,None]\n",
    "X_r = X_r / length\n",
    "\n",
    "X_g = np.array(dataset_hist_g)\n",
    "length = np.sqrt((X_g**2).sum(axis=1))[:,None]\n",
    "X_g = X_g / length\n",
    "\n",
    "\n",
    "X_b = np.array(dataset_hist_b)\n",
    "length = np.sqrt((X_b**2).sum(axis=1))[:,None]\n",
    "X_b = X_b / length"
   ]
  },
  {
   "cell_type": "markdown",
   "id": "6297bcd1",
   "metadata": {},
   "source": [
    "Como a função criou 256 features para cada uma das 3 camadas de cor das imagens, vamos juntar esses arrays para dormar um só dataframe."
   ]
  },
  {
   "cell_type": "code",
   "execution_count": 6,
   "id": "0f8a93b9",
   "metadata": {},
   "outputs": [
    {
     "data": {
      "text/plain": [
       "(26179, 768)"
      ]
     },
     "execution_count": 6,
     "metadata": {},
     "output_type": "execute_result"
    }
   ],
   "source": [
    "X = np.concatenate((X_r,X_g,X_g),axis=1)#Juntando os dados respectivos a cada camada (R,G,B)\n",
    "X = X.reshape(X.shape[0],X.shape[1])\n",
    "X.shape"
   ]
  },
  {
   "cell_type": "markdown",
   "id": "94be6a7e",
   "metadata": {},
   "source": [
    "Agora, baseado no número de imagens de cada diretório, vamos criar um vetor para a variável resposta."
   ]
  },
  {
   "cell_type": "code",
   "execution_count": 7,
   "id": "f8328ada",
   "metadata": {},
   "outputs": [],
   "source": [
    "y = ['cachorro']*4863 + ['cavalo']*2623 + ['elefante']*1446 + ['borboleta']*2112 + ['galinha']*3098  + ['gato']*1668 + ['vaca']*1866 + ['ovelha']*1820 + ['aranha']*4821 + ['esquilo']*1862\n",
    "y = np.array(y)"
   ]
  },
  {
   "cell_type": "code",
   "execution_count": 8,
   "id": "73cd140e",
   "metadata": {},
   "outputs": [
    {
     "data": {
      "text/html": [
       "<div>\n",
       "<style scoped>\n",
       "    .dataframe tbody tr th:only-of-type {\n",
       "        vertical-align: middle;\n",
       "    }\n",
       "\n",
       "    .dataframe tbody tr th {\n",
       "        vertical-align: top;\n",
       "    }\n",
       "\n",
       "    .dataframe thead th {\n",
       "        text-align: right;\n",
       "    }\n",
       "</style>\n",
       "<table border=\"1\" class=\"dataframe\">\n",
       "  <thead>\n",
       "    <tr style=\"text-align: right;\">\n",
       "      <th></th>\n",
       "      <th>0</th>\n",
       "      <th>1</th>\n",
       "      <th>2</th>\n",
       "      <th>3</th>\n",
       "      <th>4</th>\n",
       "      <th>5</th>\n",
       "      <th>6</th>\n",
       "      <th>7</th>\n",
       "      <th>8</th>\n",
       "      <th>9</th>\n",
       "      <th>...</th>\n",
       "      <th>759</th>\n",
       "      <th>760</th>\n",
       "      <th>761</th>\n",
       "      <th>762</th>\n",
       "      <th>763</th>\n",
       "      <th>764</th>\n",
       "      <th>765</th>\n",
       "      <th>766</th>\n",
       "      <th>767</th>\n",
       "      <th>labels</th>\n",
       "    </tr>\n",
       "  </thead>\n",
       "  <tbody>\n",
       "    <tr>\n",
       "      <th>0</th>\n",
       "      <td>0.001144</td>\n",
       "      <td>0.000000</td>\n",
       "      <td>0.000000</td>\n",
       "      <td>0.000817</td>\n",
       "      <td>0.000163</td>\n",
       "      <td>0.000327</td>\n",
       "      <td>0.000817</td>\n",
       "      <td>0.000817</td>\n",
       "      <td>0.000327</td>\n",
       "      <td>0.000980</td>\n",
       "      <td>...</td>\n",
       "      <td>0.032809</td>\n",
       "      <td>0.024920</td>\n",
       "      <td>0.026534</td>\n",
       "      <td>0.012908</td>\n",
       "      <td>0.008964</td>\n",
       "      <td>0.003586</td>\n",
       "      <td>0.001614</td>\n",
       "      <td>0.000896</td>\n",
       "      <td>0.001076</td>\n",
       "      <td>cachorro</td>\n",
       "    </tr>\n",
       "    <tr>\n",
       "      <th>1</th>\n",
       "      <td>0.000554</td>\n",
       "      <td>0.000138</td>\n",
       "      <td>0.000092</td>\n",
       "      <td>0.000323</td>\n",
       "      <td>0.000185</td>\n",
       "      <td>0.000185</td>\n",
       "      <td>0.000462</td>\n",
       "      <td>0.000369</td>\n",
       "      <td>0.000739</td>\n",
       "      <td>0.000369</td>\n",
       "      <td>...</td>\n",
       "      <td>0.014242</td>\n",
       "      <td>0.020410</td>\n",
       "      <td>0.025717</td>\n",
       "      <td>0.038779</td>\n",
       "      <td>0.063770</td>\n",
       "      <td>0.145592</td>\n",
       "      <td>0.943308</td>\n",
       "      <td>0.220701</td>\n",
       "      <td>0.098286</td>\n",
       "      <td>cachorro</td>\n",
       "    </tr>\n",
       "    <tr>\n",
       "      <th>2</th>\n",
       "      <td>0.115768</td>\n",
       "      <td>0.038327</td>\n",
       "      <td>0.029664</td>\n",
       "      <td>0.025726</td>\n",
       "      <td>0.024939</td>\n",
       "      <td>0.017063</td>\n",
       "      <td>0.016801</td>\n",
       "      <td>0.019426</td>\n",
       "      <td>0.017851</td>\n",
       "      <td>0.022576</td>\n",
       "      <td>...</td>\n",
       "      <td>0.016969</td>\n",
       "      <td>0.018217</td>\n",
       "      <td>0.015472</td>\n",
       "      <td>0.021211</td>\n",
       "      <td>0.024455</td>\n",
       "      <td>0.031941</td>\n",
       "      <td>0.046415</td>\n",
       "      <td>0.045916</td>\n",
       "      <td>0.051406</td>\n",
       "      <td>cachorro</td>\n",
       "    </tr>\n",
       "    <tr>\n",
       "      <th>3</th>\n",
       "      <td>0.000000</td>\n",
       "      <td>0.000000</td>\n",
       "      <td>0.000000</td>\n",
       "      <td>0.000000</td>\n",
       "      <td>0.000000</td>\n",
       "      <td>0.000000</td>\n",
       "      <td>0.000000</td>\n",
       "      <td>0.000000</td>\n",
       "      <td>0.000000</td>\n",
       "      <td>0.000000</td>\n",
       "      <td>...</td>\n",
       "      <td>0.000000</td>\n",
       "      <td>0.000000</td>\n",
       "      <td>0.000000</td>\n",
       "      <td>0.000000</td>\n",
       "      <td>0.000000</td>\n",
       "      <td>0.000000</td>\n",
       "      <td>0.000000</td>\n",
       "      <td>0.000000</td>\n",
       "      <td>0.000000</td>\n",
       "      <td>cachorro</td>\n",
       "    </tr>\n",
       "    <tr>\n",
       "      <th>4</th>\n",
       "      <td>0.000000</td>\n",
       "      <td>0.000000</td>\n",
       "      <td>0.000000</td>\n",
       "      <td>0.000543</td>\n",
       "      <td>0.000543</td>\n",
       "      <td>0.001266</td>\n",
       "      <td>0.004160</td>\n",
       "      <td>0.005969</td>\n",
       "      <td>0.015376</td>\n",
       "      <td>0.019898</td>\n",
       "      <td>...</td>\n",
       "      <td>0.000693</td>\n",
       "      <td>0.000000</td>\n",
       "      <td>0.000000</td>\n",
       "      <td>0.000520</td>\n",
       "      <td>0.000173</td>\n",
       "      <td>0.000346</td>\n",
       "      <td>0.000000</td>\n",
       "      <td>0.000173</td>\n",
       "      <td>0.000866</td>\n",
       "      <td>cachorro</td>\n",
       "    </tr>\n",
       "    <tr>\n",
       "      <th>...</th>\n",
       "      <td>...</td>\n",
       "      <td>...</td>\n",
       "      <td>...</td>\n",
       "      <td>...</td>\n",
       "      <td>...</td>\n",
       "      <td>...</td>\n",
       "      <td>...</td>\n",
       "      <td>...</td>\n",
       "      <td>...</td>\n",
       "      <td>...</td>\n",
       "      <td>...</td>\n",
       "      <td>...</td>\n",
       "      <td>...</td>\n",
       "      <td>...</td>\n",
       "      <td>...</td>\n",
       "      <td>...</td>\n",
       "      <td>...</td>\n",
       "      <td>...</td>\n",
       "      <td>...</td>\n",
       "      <td>...</td>\n",
       "      <td>...</td>\n",
       "    </tr>\n",
       "    <tr>\n",
       "      <th>26174</th>\n",
       "      <td>0.000047</td>\n",
       "      <td>0.000141</td>\n",
       "      <td>0.000047</td>\n",
       "      <td>0.000375</td>\n",
       "      <td>0.001265</td>\n",
       "      <td>0.000094</td>\n",
       "      <td>0.001733</td>\n",
       "      <td>0.000890</td>\n",
       "      <td>0.001031</td>\n",
       "      <td>0.000890</td>\n",
       "      <td>...</td>\n",
       "      <td>0.022810</td>\n",
       "      <td>0.027906</td>\n",
       "      <td>0.032858</td>\n",
       "      <td>0.071669</td>\n",
       "      <td>0.129146</td>\n",
       "      <td>0.963740</td>\n",
       "      <td>0.137623</td>\n",
       "      <td>0.062906</td>\n",
       "      <td>0.076383</td>\n",
       "      <td>esquilo</td>\n",
       "    </tr>\n",
       "    <tr>\n",
       "      <th>26175</th>\n",
       "      <td>0.000597</td>\n",
       "      <td>0.000199</td>\n",
       "      <td>0.000398</td>\n",
       "      <td>0.000597</td>\n",
       "      <td>0.000995</td>\n",
       "      <td>0.000597</td>\n",
       "      <td>0.000995</td>\n",
       "      <td>0.001394</td>\n",
       "      <td>0.001792</td>\n",
       "      <td>0.001394</td>\n",
       "      <td>...</td>\n",
       "      <td>0.045820</td>\n",
       "      <td>0.045013</td>\n",
       "      <td>0.050462</td>\n",
       "      <td>0.062573</td>\n",
       "      <td>0.070042</td>\n",
       "      <td>0.118486</td>\n",
       "      <td>0.313271</td>\n",
       "      <td>0.255138</td>\n",
       "      <td>0.106375</td>\n",
       "      <td>esquilo</td>\n",
       "    </tr>\n",
       "    <tr>\n",
       "      <th>26176</th>\n",
       "      <td>0.000000</td>\n",
       "      <td>0.000000</td>\n",
       "      <td>0.000000</td>\n",
       "      <td>0.000000</td>\n",
       "      <td>0.000000</td>\n",
       "      <td>0.000000</td>\n",
       "      <td>0.000000</td>\n",
       "      <td>0.000000</td>\n",
       "      <td>0.000000</td>\n",
       "      <td>0.000000</td>\n",
       "      <td>...</td>\n",
       "      <td>0.005975</td>\n",
       "      <td>0.006107</td>\n",
       "      <td>0.006771</td>\n",
       "      <td>0.007833</td>\n",
       "      <td>0.007966</td>\n",
       "      <td>0.004647</td>\n",
       "      <td>0.004780</td>\n",
       "      <td>0.003585</td>\n",
       "      <td>0.005842</td>\n",
       "      <td>esquilo</td>\n",
       "    </tr>\n",
       "    <tr>\n",
       "      <th>26177</th>\n",
       "      <td>0.001014</td>\n",
       "      <td>0.000870</td>\n",
       "      <td>0.000435</td>\n",
       "      <td>0.001304</td>\n",
       "      <td>0.002609</td>\n",
       "      <td>0.000435</td>\n",
       "      <td>0.005507</td>\n",
       "      <td>0.004348</td>\n",
       "      <td>0.004348</td>\n",
       "      <td>0.001014</td>\n",
       "      <td>...</td>\n",
       "      <td>0.020102</td>\n",
       "      <td>0.022267</td>\n",
       "      <td>0.028761</td>\n",
       "      <td>0.040513</td>\n",
       "      <td>0.062780</td>\n",
       "      <td>0.100974</td>\n",
       "      <td>0.170094</td>\n",
       "      <td>0.087521</td>\n",
       "      <td>0.022421</td>\n",
       "      <td>esquilo</td>\n",
       "    </tr>\n",
       "    <tr>\n",
       "      <th>26178</th>\n",
       "      <td>0.011348</td>\n",
       "      <td>0.002751</td>\n",
       "      <td>0.001032</td>\n",
       "      <td>0.001719</td>\n",
       "      <td>0.002579</td>\n",
       "      <td>0.001204</td>\n",
       "      <td>0.003439</td>\n",
       "      <td>0.001547</td>\n",
       "      <td>0.002923</td>\n",
       "      <td>0.002063</td>\n",
       "      <td>...</td>\n",
       "      <td>0.018673</td>\n",
       "      <td>0.027753</td>\n",
       "      <td>0.034948</td>\n",
       "      <td>0.036319</td>\n",
       "      <td>0.041458</td>\n",
       "      <td>0.066470</td>\n",
       "      <td>0.328753</td>\n",
       "      <td>0.117351</td>\n",
       "      <td>0.174741</td>\n",
       "      <td>esquilo</td>\n",
       "    </tr>\n",
       "  </tbody>\n",
       "</table>\n",
       "<p>26179 rows × 769 columns</p>\n",
       "</div>"
      ],
      "text/plain": [
       "              0         1         2         3         4         5         6  \\\n",
       "0      0.001144  0.000000  0.000000  0.000817  0.000163  0.000327  0.000817   \n",
       "1      0.000554  0.000138  0.000092  0.000323  0.000185  0.000185  0.000462   \n",
       "2      0.115768  0.038327  0.029664  0.025726  0.024939  0.017063  0.016801   \n",
       "3      0.000000  0.000000  0.000000  0.000000  0.000000  0.000000  0.000000   \n",
       "4      0.000000  0.000000  0.000000  0.000543  0.000543  0.001266  0.004160   \n",
       "...         ...       ...       ...       ...       ...       ...       ...   \n",
       "26174  0.000047  0.000141  0.000047  0.000375  0.001265  0.000094  0.001733   \n",
       "26175  0.000597  0.000199  0.000398  0.000597  0.000995  0.000597  0.000995   \n",
       "26176  0.000000  0.000000  0.000000  0.000000  0.000000  0.000000  0.000000   \n",
       "26177  0.001014  0.000870  0.000435  0.001304  0.002609  0.000435  0.005507   \n",
       "26178  0.011348  0.002751  0.001032  0.001719  0.002579  0.001204  0.003439   \n",
       "\n",
       "              7         8         9  ...       759       760       761  \\\n",
       "0      0.000817  0.000327  0.000980  ...  0.032809  0.024920  0.026534   \n",
       "1      0.000369  0.000739  0.000369  ...  0.014242  0.020410  0.025717   \n",
       "2      0.019426  0.017851  0.022576  ...  0.016969  0.018217  0.015472   \n",
       "3      0.000000  0.000000  0.000000  ...  0.000000  0.000000  0.000000   \n",
       "4      0.005969  0.015376  0.019898  ...  0.000693  0.000000  0.000000   \n",
       "...         ...       ...       ...  ...       ...       ...       ...   \n",
       "26174  0.000890  0.001031  0.000890  ...  0.022810  0.027906  0.032858   \n",
       "26175  0.001394  0.001792  0.001394  ...  0.045820  0.045013  0.050462   \n",
       "26176  0.000000  0.000000  0.000000  ...  0.005975  0.006107  0.006771   \n",
       "26177  0.004348  0.004348  0.001014  ...  0.020102  0.022267  0.028761   \n",
       "26178  0.001547  0.002923  0.002063  ...  0.018673  0.027753  0.034948   \n",
       "\n",
       "            762       763       764       765       766       767    labels  \n",
       "0      0.012908  0.008964  0.003586  0.001614  0.000896  0.001076  cachorro  \n",
       "1      0.038779  0.063770  0.145592  0.943308  0.220701  0.098286  cachorro  \n",
       "2      0.021211  0.024455  0.031941  0.046415  0.045916  0.051406  cachorro  \n",
       "3      0.000000  0.000000  0.000000  0.000000  0.000000  0.000000  cachorro  \n",
       "4      0.000520  0.000173  0.000346  0.000000  0.000173  0.000866  cachorro  \n",
       "...         ...       ...       ...       ...       ...       ...       ...  \n",
       "26174  0.071669  0.129146  0.963740  0.137623  0.062906  0.076383   esquilo  \n",
       "26175  0.062573  0.070042  0.118486  0.313271  0.255138  0.106375   esquilo  \n",
       "26176  0.007833  0.007966  0.004647  0.004780  0.003585  0.005842   esquilo  \n",
       "26177  0.040513  0.062780  0.100974  0.170094  0.087521  0.022421   esquilo  \n",
       "26178  0.036319  0.041458  0.066470  0.328753  0.117351  0.174741   esquilo  \n",
       "\n",
       "[26179 rows x 769 columns]"
      ]
     },
     "execution_count": 8,
     "metadata": {},
     "output_type": "execute_result"
    }
   ],
   "source": [
    "df_data_hist = pd.DataFrame(X)\n",
    "df_data_hist['labels'] = y\n",
    "df_data_hist"
   ]
  },
  {
   "cell_type": "markdown",
   "id": "a602bc4a",
   "metadata": {},
   "source": [
    "Passando os dados para numpy array e transformando a variável resposta em numérica."
   ]
  },
  {
   "cell_type": "code",
   "execution_count": 131,
   "id": "e940fd85",
   "metadata": {},
   "outputs": [],
   "source": [
    "X_hist = np.array(df_data_hist.iloc[:,:-1])\n",
    "y_hist = np.array(df_data_hist.iloc[:,-1])\n",
    "le =LabelEncoder()\n",
    "le.fit(list(np.unique(y_hist)))\n",
    "y_hist = le.transform(y_hist)"
   ]
  },
  {
   "cell_type": "markdown",
   "id": "747833e5",
   "metadata": {},
   "source": [
    "# Pré-processando via Descritores de Texturas"
   ]
  },
  {
   "cell_type": "markdown",
   "id": "9408da42",
   "metadata": {},
   "source": [
    "Vamos definir uma função para realizar a extração das features de Haralick de uma imagem."
   ]
  },
  {
   "cell_type": "code",
   "execution_count": 78,
   "id": "343d61a5",
   "metadata": {},
   "outputs": [],
   "source": [
    "def extract_features(image):\n",
    "    # calculate haralick texture features for 4 types of adjacency\n",
    "    textures = mt.features.haralick(image)\n",
    "    ht_mean = textures.mean(axis=0)\n",
    "    return ht_mean"
   ]
  },
  {
   "cell_type": "markdown",
   "id": "c80bf482",
   "metadata": {},
   "source": [
    "Exraindo as informações de textura para cada imagem e juntando num mesmo array."
   ]
  },
  {
   "cell_type": "code",
   "execution_count": 81,
   "id": "29cf2a0e",
   "metadata": {},
   "outputs": [
    {
     "data": {
      "application/vnd.jupyter.widget-view+json": {
       "model_id": "3e9de8208b5d4d20b3a3a7cb1e46f55b",
       "version_major": 2,
       "version_minor": 0
      },
      "text/plain": [
       "  0%|          | 0/26179 [00:00<?, ?it/s]"
      ]
     },
     "metadata": {},
     "output_type": "display_data"
    }
   ],
   "source": [
    "from tqdm.notebook import tqdm\n",
    "X = []\n",
    "for image in tqdm(dataset):\n",
    "    textures = extract_features(image)\n",
    "    X.append(textures)"
   ]
  },
  {
   "cell_type": "code",
   "execution_count": 82,
   "id": "99178b82",
   "metadata": {},
   "outputs": [
    {
     "data": {
      "text/html": [
       "<div>\n",
       "<style scoped>\n",
       "    .dataframe tbody tr th:only-of-type {\n",
       "        vertical-align: middle;\n",
       "    }\n",
       "\n",
       "    .dataframe tbody tr th {\n",
       "        vertical-align: top;\n",
       "    }\n",
       "\n",
       "    .dataframe thead th {\n",
       "        text-align: right;\n",
       "    }\n",
       "</style>\n",
       "<table border=\"1\" class=\"dataframe\">\n",
       "  <thead>\n",
       "    <tr style=\"text-align: right;\">\n",
       "      <th></th>\n",
       "      <th>0</th>\n",
       "      <th>1</th>\n",
       "      <th>2</th>\n",
       "      <th>3</th>\n",
       "      <th>4</th>\n",
       "      <th>5</th>\n",
       "      <th>6</th>\n",
       "      <th>7</th>\n",
       "      <th>8</th>\n",
       "      <th>9</th>\n",
       "      <th>10</th>\n",
       "      <th>11</th>\n",
       "      <th>12</th>\n",
       "      <th>labels</th>\n",
       "    </tr>\n",
       "  </thead>\n",
       "  <tbody>\n",
       "    <tr>\n",
       "      <th>0</th>\n",
       "      <td>0.000830</td>\n",
       "      <td>784.956154</td>\n",
       "      <td>0.919801</td>\n",
       "      <td>4872.916859</td>\n",
       "      <td>0.184383</td>\n",
       "      <td>324.314689</td>\n",
       "      <td>18706.711284</td>\n",
       "      <td>8.592383</td>\n",
       "      <td>12.834977</td>\n",
       "      <td>0.000226</td>\n",
       "      <td>5.018039</td>\n",
       "      <td>-0.326665</td>\n",
       "      <td>0.994968</td>\n",
       "      <td>cachorro</td>\n",
       "    </tr>\n",
       "    <tr>\n",
       "      <th>1</th>\n",
       "      <td>0.083127</td>\n",
       "      <td>616.357400</td>\n",
       "      <td>0.965514</td>\n",
       "      <td>8936.622674</td>\n",
       "      <td>0.496561</td>\n",
       "      <td>342.858839</td>\n",
       "      <td>35130.133295</td>\n",
       "      <td>6.050682</td>\n",
       "      <td>8.753159</td>\n",
       "      <td>0.000774</td>\n",
       "      <td>3.937218</td>\n",
       "      <td>-0.355729</td>\n",
       "      <td>0.986718</td>\n",
       "      <td>cachorro</td>\n",
       "    </tr>\n",
       "    <tr>\n",
       "      <th>2</th>\n",
       "      <td>0.000150</td>\n",
       "      <td>1902.003086</td>\n",
       "      <td>0.752640</td>\n",
       "      <td>3855.074544</td>\n",
       "      <td>0.107298</td>\n",
       "      <td>249.516241</td>\n",
       "      <td>13518.295090</td>\n",
       "      <td>8.680533</td>\n",
       "      <td>13.915585</td>\n",
       "      <td>0.000113</td>\n",
       "      <td>5.964632</td>\n",
       "      <td>-0.220170</td>\n",
       "      <td>0.973764</td>\n",
       "      <td>cachorro</td>\n",
       "    </tr>\n",
       "    <tr>\n",
       "      <th>3</th>\n",
       "      <td>0.000127</td>\n",
       "      <td>672.600689</td>\n",
       "      <td>0.829116</td>\n",
       "      <td>1993.353516</td>\n",
       "      <td>0.076813</td>\n",
       "      <td>240.551825</td>\n",
       "      <td>7300.813376</td>\n",
       "      <td>8.329235</td>\n",
       "      <td>13.523996</td>\n",
       "      <td>0.000105</td>\n",
       "      <td>5.505348</td>\n",
       "      <td>-0.179275</td>\n",
       "      <td>0.950538</td>\n",
       "      <td>cachorro</td>\n",
       "    </tr>\n",
       "    <tr>\n",
       "      <th>4</th>\n",
       "      <td>0.000159</td>\n",
       "      <td>1049.992871</td>\n",
       "      <td>0.836639</td>\n",
       "      <td>3186.987815</td>\n",
       "      <td>0.072350</td>\n",
       "      <td>220.083569</td>\n",
       "      <td>11697.958389</td>\n",
       "      <td>8.553162</td>\n",
       "      <td>13.425048</td>\n",
       "      <td>0.000134</td>\n",
       "      <td>5.373293</td>\n",
       "      <td>-0.260045</td>\n",
       "      <td>0.985344</td>\n",
       "      <td>cachorro</td>\n",
       "    </tr>\n",
       "    <tr>\n",
       "      <th>...</th>\n",
       "      <td>...</td>\n",
       "      <td>...</td>\n",
       "      <td>...</td>\n",
       "      <td>...</td>\n",
       "      <td>...</td>\n",
       "      <td>...</td>\n",
       "      <td>...</td>\n",
       "      <td>...</td>\n",
       "      <td>...</td>\n",
       "      <td>...</td>\n",
       "      <td>...</td>\n",
       "      <td>...</td>\n",
       "      <td>...</td>\n",
       "      <td>...</td>\n",
       "    </tr>\n",
       "    <tr>\n",
       "      <th>26174</th>\n",
       "      <td>0.019103</td>\n",
       "      <td>1477.506602</td>\n",
       "      <td>0.906594</td>\n",
       "      <td>7917.414166</td>\n",
       "      <td>0.231768</td>\n",
       "      <td>348.377447</td>\n",
       "      <td>30192.150061</td>\n",
       "      <td>7.295256</td>\n",
       "      <td>11.298704</td>\n",
       "      <td>0.000320</td>\n",
       "      <td>5.235888</td>\n",
       "      <td>-0.265885</td>\n",
       "      <td>0.981744</td>\n",
       "      <td>esquilo</td>\n",
       "    </tr>\n",
       "    <tr>\n",
       "      <th>26175</th>\n",
       "      <td>0.000338</td>\n",
       "      <td>516.196316</td>\n",
       "      <td>0.938537</td>\n",
       "      <td>4194.738669</td>\n",
       "      <td>0.106258</td>\n",
       "      <td>217.124431</td>\n",
       "      <td>16262.758360</td>\n",
       "      <td>8.482431</td>\n",
       "      <td>13.502337</td>\n",
       "      <td>0.000115</td>\n",
       "      <td>5.404344</td>\n",
       "      <td>-0.209615</td>\n",
       "      <td>0.975028</td>\n",
       "      <td>esquilo</td>\n",
       "    </tr>\n",
       "    <tr>\n",
       "      <th>26176</th>\n",
       "      <td>0.000377</td>\n",
       "      <td>211.041244</td>\n",
       "      <td>0.881225</td>\n",
       "      <td>890.457701</td>\n",
       "      <td>0.126504</td>\n",
       "      <td>239.468390</td>\n",
       "      <td>3350.789558</td>\n",
       "      <td>7.728422</td>\n",
       "      <td>12.311972</td>\n",
       "      <td>0.000187</td>\n",
       "      <td>4.754357</td>\n",
       "      <td>-0.185861</td>\n",
       "      <td>0.948745</td>\n",
       "      <td>esquilo</td>\n",
       "    </tr>\n",
       "    <tr>\n",
       "      <th>26177</th>\n",
       "      <td>0.000178</td>\n",
       "      <td>1382.930116</td>\n",
       "      <td>0.822088</td>\n",
       "      <td>3931.138589</td>\n",
       "      <td>0.098163</td>\n",
       "      <td>237.101806</td>\n",
       "      <td>14341.624238</td>\n",
       "      <td>8.716093</td>\n",
       "      <td>14.041514</td>\n",
       "      <td>0.000119</td>\n",
       "      <td>5.802705</td>\n",
       "      <td>-0.204668</td>\n",
       "      <td>0.955392</td>\n",
       "      <td>esquilo</td>\n",
       "    </tr>\n",
       "    <tr>\n",
       "      <th>26178</th>\n",
       "      <td>0.000648</td>\n",
       "      <td>1492.825065</td>\n",
       "      <td>0.713053</td>\n",
       "      <td>2616.700086</td>\n",
       "      <td>0.112877</td>\n",
       "      <td>295.986697</td>\n",
       "      <td>8973.975281</td>\n",
       "      <td>8.333765</td>\n",
       "      <td>13.741683</td>\n",
       "      <td>0.000107</td>\n",
       "      <td>5.888242</td>\n",
       "      <td>-0.164611</td>\n",
       "      <td>0.921336</td>\n",
       "      <td>esquilo</td>\n",
       "    </tr>\n",
       "  </tbody>\n",
       "</table>\n",
       "<p>26179 rows × 14 columns</p>\n",
       "</div>"
      ],
      "text/plain": [
       "              0            1         2            3         4           5  \\\n",
       "0      0.000830   784.956154  0.919801  4872.916859  0.184383  324.314689   \n",
       "1      0.083127   616.357400  0.965514  8936.622674  0.496561  342.858839   \n",
       "2      0.000150  1902.003086  0.752640  3855.074544  0.107298  249.516241   \n",
       "3      0.000127   672.600689  0.829116  1993.353516  0.076813  240.551825   \n",
       "4      0.000159  1049.992871  0.836639  3186.987815  0.072350  220.083569   \n",
       "...         ...          ...       ...          ...       ...         ...   \n",
       "26174  0.019103  1477.506602  0.906594  7917.414166  0.231768  348.377447   \n",
       "26175  0.000338   516.196316  0.938537  4194.738669  0.106258  217.124431   \n",
       "26176  0.000377   211.041244  0.881225   890.457701  0.126504  239.468390   \n",
       "26177  0.000178  1382.930116  0.822088  3931.138589  0.098163  237.101806   \n",
       "26178  0.000648  1492.825065  0.713053  2616.700086  0.112877  295.986697   \n",
       "\n",
       "                  6         7          8         9        10        11  \\\n",
       "0      18706.711284  8.592383  12.834977  0.000226  5.018039 -0.326665   \n",
       "1      35130.133295  6.050682   8.753159  0.000774  3.937218 -0.355729   \n",
       "2      13518.295090  8.680533  13.915585  0.000113  5.964632 -0.220170   \n",
       "3       7300.813376  8.329235  13.523996  0.000105  5.505348 -0.179275   \n",
       "4      11697.958389  8.553162  13.425048  0.000134  5.373293 -0.260045   \n",
       "...             ...       ...        ...       ...       ...       ...   \n",
       "26174  30192.150061  7.295256  11.298704  0.000320  5.235888 -0.265885   \n",
       "26175  16262.758360  8.482431  13.502337  0.000115  5.404344 -0.209615   \n",
       "26176   3350.789558  7.728422  12.311972  0.000187  4.754357 -0.185861   \n",
       "26177  14341.624238  8.716093  14.041514  0.000119  5.802705 -0.204668   \n",
       "26178   8973.975281  8.333765  13.741683  0.000107  5.888242 -0.164611   \n",
       "\n",
       "             12    labels  \n",
       "0      0.994968  cachorro  \n",
       "1      0.986718  cachorro  \n",
       "2      0.973764  cachorro  \n",
       "3      0.950538  cachorro  \n",
       "4      0.985344  cachorro  \n",
       "...         ...       ...  \n",
       "26174  0.981744   esquilo  \n",
       "26175  0.975028   esquilo  \n",
       "26176  0.948745   esquilo  \n",
       "26177  0.955392   esquilo  \n",
       "26178  0.921336   esquilo  \n",
       "\n",
       "[26179 rows x 14 columns]"
      ]
     },
     "execution_count": 82,
     "metadata": {},
     "output_type": "execute_result"
    }
   ],
   "source": [
    "df_data_hara = pd.DataFrame(X)\n",
    "df_data_hara['labels'] = y\n",
    "df_data_hara"
   ]
  },
  {
   "cell_type": "code",
   "execution_count": 83,
   "id": "5f3d96a9",
   "metadata": {},
   "outputs": [],
   "source": [
    "df_data_hara.to_csv('dataset_textura.csv', index=False) #salvando dataset montado para ser utilizado outras vezes."
   ]
  },
  {
   "cell_type": "markdown",
   "id": "100d4d55",
   "metadata": {},
   "source": [
    "Passando os dados para numpy array e transformando a variável resposta em numérica."
   ]
  },
  {
   "cell_type": "code",
   "execution_count": 133,
   "id": "68c1ae73",
   "metadata": {},
   "outputs": [],
   "source": [
    "X_hara = np.array(df_data_hara.iloc[:,:-1])\n",
    "y_hara = np.array(df_data_hara.iloc[:,-1])"
   ]
  },
  {
   "cell_type": "code",
   "execution_count": 134,
   "id": "1f2c9a8e",
   "metadata": {},
   "outputs": [],
   "source": [
    "le = LabelEncoder()\n",
    "le.fit(list(np.unique(y_hara)))\n",
    "y_hara=le.transform(y_hara)"
   ]
  },
  {
   "cell_type": "markdown",
   "id": "379677ac",
   "metadata": {},
   "source": [
    "# Classificação via Histograma de Cores."
   ]
  },
  {
   "cell_type": "markdown",
   "id": "9b8ab2e2",
   "metadata": {},
   "source": [
    "##### Vamos agora dividir o conjunto de dados com 80% de treinamento e 20% de teste (hold-out)."
   ]
  },
  {
   "cell_type": "code",
   "execution_count": 213,
   "id": "fe645833",
   "metadata": {},
   "outputs": [],
   "source": [
    "X_train, X_test, y_train, y_test = train_test_split(X_hist, y_hist, test_size=0.20, random_state=42)"
   ]
  },
  {
   "cell_type": "markdown",
   "id": "67210328",
   "metadata": {},
   "source": [
    "## KNN"
   ]
  },
  {
   "cell_type": "markdown",
   "id": "109693c0",
   "metadata": {},
   "source": [
    "Escolhendo melhores parâmetros para o modelo."
   ]
  },
  {
   "cell_type": "code",
   "execution_count": 178,
   "id": "b1d39a2a",
   "metadata": {},
   "outputs": [
    {
     "data": {
      "text/plain": [
       "KNeighborsClassifier(metric='manhattan', n_neighbors=100, weights='distance')"
      ]
     },
     "execution_count": 178,
     "metadata": {},
     "output_type": "execute_result"
    }
   ],
   "source": [
    "model = KNeighborsClassifier()\n",
    "params_KNN = {\n",
    "        \"n_neighbors\":[3,5,7,10,15,20,25,30,50,80,100,500,1000],\n",
    "        \"weights\":['uniform','distance'],\n",
    "        \"metric\": ['euclidean','manhattan','minkowski','chebyshev'],\n",
    "    } \n",
    "grid_search_cv = RandomizedSearchCV(model, params_KNN, cv=10, scoring=\"accuracy\")\n",
    "# Achando os melhores hiperparâmetros\n",
    "result = grid_search_cv.fit(X_train, y_train)\n",
    "best_model = result.best_estimator_\n",
    "best_model"
   ]
  },
  {
   "cell_type": "markdown",
   "id": "69a4768f",
   "metadata": {},
   "source": [
    "#### OBS: utilizando o parâmetro _weights='distance'_, estamos adotando uma abordagem que visa diminuir o efeito do desbalanceamento de classe."
   ]
  },
  {
   "cell_type": "markdown",
   "id": "756552f2",
   "metadata": {},
   "source": [
    "Ajustando o modelo."
   ]
  },
  {
   "cell_type": "code",
   "execution_count": 179,
   "id": "b257afce",
   "metadata": {},
   "outputs": [],
   "source": [
    "model = KNeighborsClassifier(n_neighbors=100, metric = 'manhattan',weights='distance')\n",
    "model.fit(X_train,y_train)\n",
    "# faz a predição no conjunto de teste\n",
    "y_pred = model.predict(X_test) "
   ]
  },
  {
   "cell_type": "markdown",
   "id": "44f386db",
   "metadata": {},
   "source": [
    "Resultado"
   ]
  },
  {
   "cell_type": "code",
   "execution_count": 180,
   "id": "efce725f",
   "metadata": {
    "scrolled": true
   },
   "outputs": [
    {
     "name": "stdout",
     "output_type": "stream",
     "text": [
      "Accuracy: 0.25611153552330024\n"
     ]
    }
   ],
   "source": [
    "from sklearn.metrics import accuracy_score\n",
    "score = accuracy_score(y_pred, y_test)\n",
    "print('Accuracy:', score)"
   ]
  },
  {
   "cell_type": "markdown",
   "id": "4536f479",
   "metadata": {},
   "source": [
    "## Random Forest"
   ]
  },
  {
   "cell_type": "markdown",
   "id": "801e0a59",
   "metadata": {},
   "source": [
    "Escolhendo melhores parâmetros para o modelo."
   ]
  },
  {
   "cell_type": "code",
   "execution_count": 214,
   "id": "3741e18f",
   "metadata": {},
   "outputs": [
    {
     "data": {
      "text/plain": [
       "RandomForestClassifier(max_features=0.5, n_estimators=250)"
      ]
     },
     "execution_count": 214,
     "metadata": {},
     "output_type": "execute_result"
    }
   ],
   "source": [
    "model_RF = RandomForestClassifier()\n",
    "params_RF = {'n_estimators': [50, 150, 250],\n",
    "            'max_features': ['sqrt', 0.25, 0.5, 0.75, 1.0],\n",
    "            'min_samples_split': [2, 4, 6],\n",
    "            'class_weight': [None, 'balanced']}\n",
    "grid_search_cv = RandomizedSearchCV(model_RF, params_RF, cv=5, scoring=\"accuracy\",n_jobs = 8)\n",
    "# Achando os melhores hiperparâmetros\n",
    "result = grid_search_cv.fit(X_train, y_train)\n",
    "best_model = result.best_estimator_\n",
    "best_model"
   ]
  },
  {
   "cell_type": "code",
   "execution_count": 215,
   "id": "61173086",
   "metadata": {},
   "outputs": [],
   "source": [
    "model = RandomForestClassifier(n_estimators=250, max_features = 0.5)\n",
    "model.fit(X_train,y_train)\n",
    "# faz a predição no conjunto de teste\n",
    "y_pred = model.predict(X_test) "
   ]
  },
  {
   "cell_type": "code",
   "execution_count": 216,
   "id": "1c9dd7e4",
   "metadata": {},
   "outputs": [
    {
     "name": "stdout",
     "output_type": "stream",
     "text": [
      "Accuracy: 0.3737585943468296\n"
     ]
    }
   ],
   "source": [
    "score = accuracy_score(y_pred, y_test)\n",
    "print('Accuracy:', score)"
   ]
  },
  {
   "cell_type": "markdown",
   "id": "d112e167",
   "metadata": {},
   "source": [
    "# Classificação via Descritores de Texturas."
   ]
  },
  {
   "cell_type": "markdown",
   "id": "b2dfa8e0",
   "metadata": {},
   "source": [
    "##### Vamos agora dividir o conjunto de dados com 80% de treinamento e 20% de teste (hold-out)."
   ]
  },
  {
   "cell_type": "code",
   "execution_count": 188,
   "id": "5f124b65",
   "metadata": {},
   "outputs": [],
   "source": [
    "X_train, X_test, y_train, y_test = train_test_split(X_hara, y_hara, test_size=0.20, random_state=42)"
   ]
  },
  {
   "cell_type": "markdown",
   "id": "b21c1a5e",
   "metadata": {},
   "source": [
    "## KNN"
   ]
  },
  {
   "cell_type": "markdown",
   "id": "b46ce992",
   "metadata": {},
   "source": [
    "Escolhendo melhores parâmetros para o modelo."
   ]
  },
  {
   "cell_type": "code",
   "execution_count": 189,
   "id": "7d8beb8d",
   "metadata": {},
   "outputs": [
    {
     "data": {
      "text/plain": [
       "KNeighborsClassifier(metric='manhattan', n_neighbors=50, weights='distance')"
      ]
     },
     "execution_count": 189,
     "metadata": {},
     "output_type": "execute_result"
    }
   ],
   "source": [
    "model = KNeighborsClassifier()\n",
    "params_KNN = {\n",
    "        \"n_neighbors\":[3,5,7,10,15,20,25,30,50,80,100,500,1000],\n",
    "        \"weights\":['uniform','distance'],\n",
    "        \"metric\": ['euclidean','manhattan','minkowski','chebyshev'],\n",
    "    } \n",
    "grid_search_cv = RandomizedSearchCV(model, params_KNN, cv=10, scoring=\"f1_micro\",n_jobs = 4)\n",
    "# Achando os melhores hiperparâmetros\n",
    "result = grid_search_cv.fit(X_train, y_train)\n",
    "best_model = result.best_estimator_\n",
    "best_model"
   ]
  },
  {
   "cell_type": "markdown",
   "id": "5a6abf73",
   "metadata": {},
   "source": [
    "#### OBS: utilizando o parâmetro _weights='distance'_, estamos adotando uma abordagem que visa diminuir o efeito do desbalanceamento de classe."
   ]
  },
  {
   "cell_type": "code",
   "execution_count": 193,
   "id": "66d64caf",
   "metadata": {},
   "outputs": [],
   "source": [
    "model = KNeighborsClassifier(n_neighbors=50, metric = 'manhattan',weights='distance',n_jobs = 4)\n",
    "model.fit(X_train,y_train)\n",
    "# faz a predição no conjunto de teste\n",
    "y_pred = model.predict(X_test) "
   ]
  },
  {
   "cell_type": "code",
   "execution_count": 194,
   "id": "4698bdf5",
   "metadata": {},
   "outputs": [
    {
     "name": "stdout",
     "output_type": "stream",
     "text": [
      "Accuracy: 0.2614591291061879\n"
     ]
    }
   ],
   "source": [
    "from sklearn.metrics import accuracy_score\n",
    "score = accuracy_score(y_pred, y_test)\n",
    "print('Accuracy:', score)"
   ]
  },
  {
   "cell_type": "markdown",
   "id": "f4f2362f",
   "metadata": {},
   "source": [
    "## Random Forest"
   ]
  },
  {
   "cell_type": "markdown",
   "id": "6df9d02d",
   "metadata": {},
   "source": [
    "Escolhendo melhores parâmetros para o modelo."
   ]
  },
  {
   "cell_type": "code",
   "execution_count": 210,
   "id": "30fce4ce",
   "metadata": {},
   "outputs": [
    {
     "data": {
      "text/plain": [
       "RandomForestClassifier(max_features=0.75, min_samples_split=4, n_estimators=150)"
      ]
     },
     "execution_count": 210,
     "metadata": {},
     "output_type": "execute_result"
    }
   ],
   "source": [
    "model_RF = RandomForestClassifier()\n",
    "params_RF = {'n_estimators': [50, 150, 250],\n",
    "            'max_features': ['sqrt', 0.25, 0.5, 0.75, 1.0],\n",
    "            'min_samples_split': [2, 4, 6],\n",
    "            'class_weight': [None, 'balanced']}\n",
    "grid_search_cv = RandomizedSearchCV(model_RF, params_RF, cv=5, scoring=\"accuracy\",n_jobs = 8)\n",
    "# Achando os melhores hiperparâmetros\n",
    "result = grid_search_cv.fit(X_train, y_train)\n",
    "best_model = result.best_estimator_\n",
    "best_model"
   ]
  },
  {
   "cell_type": "code",
   "execution_count": 211,
   "id": "534fcf32",
   "metadata": {},
   "outputs": [],
   "source": [
    "model = RandomForestClassifier(n_estimators=150, max_features = 0.75, min_samples_split=4)\n",
    "model.fit(X_train,y_train)\n",
    "# faz a predição no conjunto de teste\n",
    "y_pred = model.predict(X_test) "
   ]
  },
  {
   "cell_type": "code",
   "execution_count": 212,
   "id": "3883dece",
   "metadata": {},
   "outputs": [
    {
     "name": "stdout",
     "output_type": "stream",
     "text": [
      "Accuracy: 0.37203972498090143\n"
     ]
    }
   ],
   "source": [
    "score = accuracy_score(y_pred, y_test)\n",
    "print('Accuracy:', score)"
   ]
  },
  {
   "cell_type": "markdown",
   "id": "85278998",
   "metadata": {},
   "source": [
    "Vemos que, para as duas abordagens, o classificador Random Forest se saiu consideravelmente melhor que o KNN, e o tipo de pré-processamento utilizado não alterou significativamente a acurácia do classificador."
   ]
  },
  {
   "cell_type": "markdown",
   "id": "793ebb9c",
   "metadata": {},
   "source": [
    "# Classificação via CNN."
   ]
  },
  {
   "cell_type": "markdown",
   "id": "40f145c0",
   "metadata": {},
   "source": [
    "Vamos primeiramente rescalar nossas imagens para que todas tenham o mesmo tamanho, para que possamos utilizar na CNN."
   ]
  },
  {
   "cell_type": "code",
   "execution_count": 5,
   "id": "3aeeb278",
   "metadata": {},
   "outputs": [],
   "source": [
    "directory = 'data/'\n",
    "image_list = []\n",
    "resized_images=[]\n",
    "for filename in os.listdir(directory):\n",
    "    mypath = 'data/' + str(filename) + '/' \n",
    "    files = [f for f in listdir(mypath) if isfile(join(mypath, f))]\n",
    "    for img in files:\n",
    "        image = Image.open(mypath+img).resize((250,250))\n",
    "        image = np.array(image)\n",
    "        resized_images.append(image)\n",
    "X = np.array(resized_images)\n",
    "del(resized_images)"
   ]
  },
  {
   "cell_type": "code",
   "execution_count": 6,
   "id": "e09308ba",
   "metadata": {},
   "outputs": [],
   "source": [
    "y = ['cachorro']*4863 + ['cavalo']*2623 + ['elefante']*1436 + ['borboleta']*2073 + ['galinha']*3098  + ['gato']*1667 + ['vaca']*1866 + ['ovelha']*1820 + ['aranha']*4820 + ['esquilo']*1862\n",
    "y = np.array(y)\n",
    "le =LabelEncoder()\n",
    "le.fit(list(np.unique(y)))\n",
    "y = le.transform(y)"
   ]
  },
  {
   "cell_type": "markdown",
   "id": "e4654e9f",
   "metadata": {},
   "source": [
    "##### Vamos agora dividir o conjunto de dados com 80% de treinamento e 20% de teste (hold-out)."
   ]
  },
  {
   "cell_type": "code",
   "execution_count": 42,
   "id": "95705b82",
   "metadata": {},
   "outputs": [],
   "source": [
    "X_train, X_test, y_train, y_test = train_test_split(X, y, test_size=0.2,random_state=42)"
   ]
  },
  {
   "cell_type": "code",
   "execution_count": 7,
   "id": "9106b959",
   "metadata": {},
   "outputs": [],
   "source": [
    "X_train = np.float16(X_train)\n",
    "X_test = np.float16(X_test)\n",
    "X_train = X_train/255\n",
    "X_test = X_test/255"
   ]
  },
  {
   "cell_type": "code",
   "execution_count": 15,
   "id": "51ea672f",
   "metadata": {},
   "outputs": [
    {
     "data": {
      "text/plain": [
       "(0.0, 1.0, 0.0, 1.0, 0.0, 1.0, 0.0, 1.0)"
      ]
     },
     "execution_count": 15,
     "metadata": {},
     "output_type": "execute_result"
    }
   ],
   "source": [
    "#Checando se os dados foram normalizados.\n",
    "(X_train.min(),X_train.max(),X_train.min(),X_train.max(),X_test.min(),X_test.max(),X_test.min(),X_test.max())"
   ]
  },
  {
   "cell_type": "code",
   "execution_count": 17,
   "id": "866d21b7",
   "metadata": {},
   "outputs": [
    {
     "name": "stdout",
     "output_type": "stream",
     "text": [
      "O número de linhas das imagens é:  250 \n",
      " O número de colunas das imagens é:  250 \n",
      " O número de canais  das é:  3\n"
     ]
    }
   ],
   "source": [
    "print('O número de linhas das imagens é: ', X_train.shape[1], '\\n O número de colunas das imagens é: ', X_train.shape[2] ,'\\n O número de canais  das é: ',X_train.shape[3] )"
   ]
  },
  {
   "cell_type": "code",
   "execution_count": 9,
   "id": "522c64dd",
   "metadata": {},
   "outputs": [
    {
     "name": "stdout",
     "output_type": "stream",
     "text": [
      "A quantidade de imagens para ao conjunto de treino da base é:  20902\n",
      "A quantidade de imagens para ao conjunto de teste da base é:  5226\n"
     ]
    }
   ],
   "source": [
    "#Quantidade de imagens de treino e teste\n",
    "print(\"A quantidade de imagens para ao conjunto de treino da base é: \", y_train.shape[0])\n",
    "print(\"A quantidade de imagens para ao conjunto de teste da base é: \", y_test.shape[0])"
   ]
  },
  {
   "cell_type": "code",
   "execution_count": 27,
   "id": "3ab08774",
   "metadata": {},
   "outputs": [],
   "source": [
    "y_train_pd = pd.Series(y_train)\n",
    "y_test_pd = pd.Series(y_test)"
   ]
  },
  {
   "cell_type": "markdown",
   "id": "b6225fc0",
   "metadata": {},
   "source": [
    "Vamos avaliar se as proporções entre as classes da variável resposta ficaram iguais para a base de treino e base de teste."
   ]
  },
  {
   "cell_type": "code",
   "execution_count": 16,
   "id": "383c6c6f",
   "metadata": {},
   "outputs": [
    {
     "data": {
      "text/plain": [
       "<AxesSubplot:ylabel='count'>"
      ]
     },
     "execution_count": 16,
     "metadata": {},
     "output_type": "execute_result"
    },
    {
     "data": {
      "image/png": "[encoded data removed]",
      "text/plain": [
       "<Figure size 432x288 with 1 Axes>"
      ]
     },
     "metadata": {
      "needs_background": "light"
     },
     "output_type": "display_data"
    }
   ],
   "source": [
    "sns.countplot(x=y_train)"
   ]
  },
  {
   "cell_type": "code",
   "execution_count": 15,
   "id": "d345b876",
   "metadata": {},
   "outputs": [
    {
     "data": {
      "text/plain": [
       "<AxesSubplot:ylabel='count'>"
      ]
     },
     "execution_count": 15,
     "metadata": {},
     "output_type": "execute_result"
    },
    {
     "data": {
      "image/png": "[encoded data removed]",
      "text/plain": [
       "<Figure size 432x288 with 1 Axes>"
      ]
     },
     "metadata": {
      "needs_background": "light"
     },
     "output_type": "display_data"
    }
   ],
   "source": [
    "sns.countplot(x=y_test)"
   ]
  },
  {
   "cell_type": "markdown",
   "id": "ce74a0ec",
   "metadata": {},
   "source": [
    "Exemplo de imagem para cada classe"
   ]
  },
  {
   "cell_type": "code",
   "execution_count": 88,
   "id": "c496d334",
   "metadata": {},
   "outputs": [
    {
     "data": {
      "text/plain": [
       "Text(0.5, 1.0, 'Esquilo')"
      ]
     },
     "execution_count": 88,
     "metadata": {},
     "output_type": "execute_result"
    },
    {
     "data": {
      "image/png": "[encoded data removed]",
      "text/plain": [
       "<Figure size 1440x720 with 10 Axes>"
      ]
     },
     "metadata": {
      "needs_background": "light"
     },
     "output_type": "display_data"
    }
   ],
   "source": [
    "# create figure\n",
    "fig = plt.figure(figsize=(20, 10))\n",
    "\n",
    "# setting values to rows and column variables\n",
    "rows = 1\n",
    "columns = 10\n",
    "\n",
    "# reading images\n",
    "Image1 = io.imread('data/cane/OIP-__Yu1XH3iAC10OzGQFpC-AHaE8.jpeg')\n",
    "Image2 = io.imread('data/cavallo/OIP-_4xQfMZofBLJHN-EjvNIbAHaFa.jpeg')\n",
    "Image3 = io.imread('data/elefante/e83cb60828f5043ed1584d05fb1d4e9fe777ead218ac104497f5c978a4eebdbd_640.jpg')\n",
    "Image4 = io.imread('data/farfalla/e030b20929e90021d85a5854ee454296eb70e3c818b413449df6c87ca3ed_640.jpg')\n",
    "Image5 = io.imread('data/gallina/28.jpeg')\n",
    "Image6 = io.imread('data/gatto/2.jpeg')\n",
    "Image7 = io.imread('data/mucca/OIP-_1Zlq8IuJjORr6HhIGetCQHaFj.jpeg')\n",
    "Image8 = io.imread('data/pecora/e830b1072ef6043ed1584d05fb1d4e9fe777ead218ac104497f5c978a6ebb3bf_640.jpg')\n",
    "Image9 = io.imread('data/ragno/e83db80628f01c22d2524518b7444f92e37fe5d404b0144390f8c47ba6edbc_640.jpg')\n",
    "Image10 = io.imread('data/scoiattolo/OIP-_LQ_PTWmYyR9N_fPk5W49AHaHF.jpeg')\n",
    "\n",
    "\n",
    "fig.add_subplot(rows, columns, 1)\n",
    "plt.imshow(Image1)\n",
    "plt.title(\"Cachorro\")\n",
    "fig.add_subplot(rows, columns, 2)\n",
    "plt.imshow(Image2)\n",
    "plt.title(\"Cavalo\")\n",
    "fig.add_subplot(rows, columns, 3)\n",
    "plt.imshow(Image3)\n",
    "plt.title(\"Elefante\")\n",
    "fig.add_subplot(rows, columns, 4)\n",
    "plt.imshow(Image4)\n",
    "plt.title(\"Borboleta\")\n",
    "fig.add_subplot(rows, columns, 5)  \n",
    "plt.imshow(Image5)\n",
    "plt.title(\"Galinha\")\n",
    "fig.add_subplot(rows, columns, 6)\n",
    "plt.imshow(Image6)\n",
    "plt.title(\"Gato\")\n",
    "fig.add_subplot(rows, columns, 7)\n",
    "plt.imshow(Image7)\n",
    "plt.title(\"Vaca\")\n",
    "fig.add_subplot(rows, columns, 8)\n",
    "plt.imshow(Image8)\n",
    "plt.title(\"Ovelha\")\n",
    "fig.add_subplot(rows, columns, 9)\n",
    "plt.imshow(Image9)\n",
    "plt.title(\"Aranha\")\n",
    "fig.add_subplot(rows, columns, 10)\n",
    "plt.imshow(Image10)\n",
    "plt.title(\"Esquilo\")"
   ]
  },
  {
   "cell_type": "markdown",
   "id": "d5cf203a",
   "metadata": {},
   "source": [
    "### Agora, vamos criar e compilar o modelo de Rede Neural Convolucional"
   ]
  },
  {
   "cell_type": "code",
   "execution_count": 30,
   "id": "937fd5bf",
   "metadata": {},
   "outputs": [],
   "source": [
    "model = Sequential()\n",
    "model.add(Conv2D(16, kernel_size=(3, 3), activation='relu', input_shape=(250,250,3), padding='same'))\n",
    "model.add(MaxPooling2D(pool_size=(2, 2)))\n",
    "model.add(Conv2D(16, kernel_size=(3, 3), activation='relu', input_shape=(250,250,3), padding='same'))\n",
    "model.add(Conv2D(16, kernel_size=(3, 3), activation='relu', input_shape=(250,250,3), padding='same'))\n",
    "model.add(MaxPooling2D(pool_size=(2, 2)))\n",
    "model.add(Conv2D(32, kernel_size=(3, 3), activation='relu', input_shape=(250,250,3), padding='same'))\n",
    "model.add(Conv2D(32, kernel_size=(3, 3), activation='relu', input_shape=(250,250,3), padding='same'))\n",
    "model.add(MaxPooling2D(pool_size=(2, 2)))\n",
    "model.add(Flatten())\n",
    "model.add(Dense(10, activation='softmax'))"
   ]
  },
  {
   "cell_type": "code",
   "execution_count": 31,
   "id": "736bf829",
   "metadata": {
    "scrolled": true
   },
   "outputs": [
    {
     "name": "stdout",
     "output_type": "stream",
     "text": [
      "Model: \"sequential_1\"\n",
      "_________________________________________________________________\n",
      "Layer (type)                 Output Shape              Param #   \n",
      "=================================================================\n",
      "conv2d_5 (Conv2D)            (None, 250, 250, 16)      448       \n",
      "_________________________________________________________________\n",
      "max_pooling2d_3 (MaxPooling2 (None, 125, 125, 16)      0         \n",
      "_________________________________________________________________\n",
      "conv2d_6 (Conv2D)            (None, 125, 125, 16)      2320      \n",
      "_________________________________________________________________\n",
      "conv2d_7 (Conv2D)            (None, 125, 125, 16)      2320      \n",
      "_________________________________________________________________\n",
      "max_pooling2d_4 (MaxPooling2 (None, 62, 62, 16)        0         \n",
      "_________________________________________________________________\n",
      "conv2d_8 (Conv2D)            (None, 62, 62, 32)        4640      \n",
      "_________________________________________________________________\n",
      "conv2d_9 (Conv2D)            (None, 62, 62, 32)        9248      \n",
      "_________________________________________________________________\n",
      "max_pooling2d_5 (MaxPooling2 (None, 31, 31, 32)        0         \n",
      "_________________________________________________________________\n",
      "flatten_1 (Flatten)          (None, 30752)             0         \n",
      "_________________________________________________________________\n",
      "dense_1 (Dense)              (None, 10)                307530    \n",
      "=================================================================\n",
      "Total params: 326,506\n",
      "Trainable params: 326,506\n",
      "Non-trainable params: 0\n",
      "_________________________________________________________________\n"
     ]
    }
   ],
   "source": [
    "model.summary()"
   ]
  },
  {
   "cell_type": "code",
   "execution_count": 32,
   "id": "0806443f",
   "metadata": {},
   "outputs": [],
   "source": [
    "model.compile(\n",
    "    loss='categorical_crossentropy',\n",
    "    optimizer='adam',\n",
    "    metrics=['accuracy'])"
   ]
  },
  {
   "cell_type": "code",
   "execution_count": 43,
   "id": "860bb30a",
   "metadata": {},
   "outputs": [],
   "source": [
    "#Passando o vetor da variável target para a forma que o Keras aceita\n",
    "y_train2 = to_categorical(y_train)\n",
    "y_test2 = to_categorical(y_test)"
   ]
  },
  {
   "cell_type": "markdown",
   "id": "abdbb31d",
   "metadata": {},
   "source": [
    "Treinando o modelo"
   ]
  },
  {
   "cell_type": "code",
   "execution_count": 35,
   "id": "5fff9c7f",
   "metadata": {},
   "outputs": [
    {
     "name": "stdout",
     "output_type": "stream",
     "text": [
      "Epoch 1/10\n",
      "1046/1046 [==============================] - 323s 309ms/step - loss: 1.5238 - accuracy: 0.4790\n",
      "Epoch 2/10\n",
      "1046/1046 [==============================] - 332s 317ms/step - loss: 1.0881 - accuracy: 0.6379\n",
      "Epoch 3/10\n",
      "1046/1046 [==============================] - 331s 317ms/step - loss: 0.7336 - accuracy: 0.7546\n",
      "Epoch 4/10\n",
      "1046/1046 [==============================] - 322s 308ms/step - loss: 0.4038 - accuracy: 0.8664\n",
      "Epoch 5/10\n",
      "1046/1046 [==============================] - 322s 308ms/step - loss: 0.2128 - accuracy: 0.9305\n",
      "Epoch 6/10\n",
      "1046/1046 [==============================] - 322s 308ms/step - loss: 0.1440 - accuracy: 0.9517\n",
      "Epoch 7/10\n",
      "1046/1046 [==============================] - 323s 309ms/step - loss: 0.1095 - accuracy: 0.9652\n",
      "Epoch 8/10\n",
      "1046/1046 [==============================] - 326s 311ms/step - loss: 0.0974 - accuracy: 0.9679\n",
      "Epoch 9/10\n",
      "1046/1046 [==============================] - 327s 313ms/step - loss: 0.0938 - accuracy: 0.9697\n",
      "Epoch 10/10\n",
      "1046/1046 [==============================] - 337s 323ms/step - loss: 0.0865 - accuracy: 0.9731\n"
     ]
    },
    {
     "data": {
      "text/plain": [
       "<tensorflow.python.keras.callbacks.History at 0x26820c3aaf0>"
      ]
     },
     "execution_count": 35,
     "metadata": {},
     "output_type": "execute_result"
    }
   ],
   "source": [
    "model.fit(\n",
    "    X_train, y_train2,    \n",
    "    epochs=10,\n",
    "    verbose=1,\n",
    "    batch_size=20)"
   ]
  },
  {
   "cell_type": "code",
   "execution_count": 36,
   "id": "f55ac43f",
   "metadata": {},
   "outputs": [
    {
     "name": "stdout",
     "output_type": "stream",
     "text": [
      "WARNING:tensorflow:From C:\\Users\\dougl\\anaconda3\\lib\\site-packages\\tensorflow\\python\\training\\tracking\\tracking.py:111: Model.state_updates (from tensorflow.python.keras.engine.training) is deprecated and will be removed in a future version.\n",
      "Instructions for updating:\n",
      "This property should not be used in TensorFlow 2.0, as updates are applied automatically.\n",
      "WARNING:tensorflow:From C:\\Users\\dougl\\anaconda3\\lib\\site-packages\\tensorflow\\python\\training\\tracking\\tracking.py:111: Layer.updates (from tensorflow.python.keras.engine.base_layer) is deprecated and will be removed in a future version.\n",
      "Instructions for updating:\n",
      "This property should not be used in TensorFlow 2.0, as updates are applied automatically.\n",
      "INFO:tensorflow:Assets written to: CNN\\assets\n"
     ]
    }
   ],
   "source": [
    "#Salvando o modelo para utilizar posteriormente\n",
    "model.save('CNN')"
   ]
  },
  {
   "cell_type": "markdown",
   "id": "e90f6106",
   "metadata": {},
   "source": [
    "Vamos agora ver como o modelo se saiu no conjunto de teste"
   ]
  },
  {
   "cell_type": "code",
   "execution_count": null,
   "id": "e7e70618",
   "metadata": {},
   "outputs": [],
   "source": [
    "#Carregando o modelo já treinando anteriormente\n",
    "model = keras.models.load_model('CNN')"
   ]
  },
  {
   "cell_type": "code",
   "execution_count": 44,
   "id": "58f2c80e",
   "metadata": {},
   "outputs": [
    {
     "name": "stdout",
     "output_type": "stream",
     "text": [
      "164/164 [==============================] - 17s 106ms/step - loss: 1133.9125 - accuracy: 0.4049\n"
     ]
    },
    {
     "data": {
      "text/plain": [
       "[1133.9124755859375, 0.40489858388900757]"
      ]
     },
     "execution_count": 44,
     "metadata": {},
     "output_type": "execute_result"
    }
   ],
   "source": [
    "model.evaluate(X_test, y_test2)"
   ]
  },
  {
   "cell_type": "markdown",
   "id": "b1ec301e",
   "metadata": {},
   "source": [
    "### Conclusões"
   ]
  },
  {
   "cell_type": "markdown",
   "id": "d0d2a300",
   "metadata": {},
   "source": [
    "Utilizando como pré processamento o histograma de cores e as texturas de Haralick e como extração de padrões os modelos de KNN e Random Forest, para ambos os tipos de pré processamento, os resultados utilizando os dois modelos foram muito parecidos, sendo o Random Forest o que se saiu melhor entre os dois, com uma acurácia de cerca de **0.37**.\n",
    "\n",
    "Já utilizando a rede neural convolucional, temos uma acurácia um pouco maior, de **0.40**, sendo este, o modelo que se saiu melhor dentre os testados anteriormente."
   ]
  },
  {
   "cell_type": "markdown",
   "id": "3c86cc93",
   "metadata": {},
   "source": [
    "Em diversas situações informações numéricas, categóricas nominais ou ordinais ou até mesmo textos são dados de relevada importância. Ressalta-se ainda que em determinados momentos essas informações não são as únicas que podem ser utilizadas para descrever, prescrever ou predizer sobre questões do mundo.\n",
    "\n",
    "Imagens estão presentes em toda parte e representam informações cruciais para descrever o mundo. Elas são de grande importância e podem contribuir tanto para a identificação de um artista e em qual vertente da história da arte ele mais se adéqua quanto podem auxiliar na definição de doenças pulmonares, por exemplo.\n",
    "\n",
    "Em razão do exposto fica nítido a importância de imagens dentro da área de data science. Essa forma de dado armazena um tipo de informação que até um tempo atrás não era utilizado. De posse dessa informação podemos desde descobrir um \"primo\" de Picasso até mesmo identificar se alguém tem alguma síndrome respiratória. No nosso caso, uma possível aplicação poderia ser uma implementação de um modelo que identifica animais em uma espécie de robô ou drone para ajudar no controle do número de animais de uma fazenda, por exemplo."
   ]
  }
 ],
 "metadata": {
  "kernelspec": {
   "display_name": "Python 3 (ipykernel)",
   "language": "python",
   "name": "python3"
  },
  "language_info": {
   "codemirror_mode": {
    "name": "ipython",
    "version": 3
   },
   "file_extension": ".py",
   "mimetype": "text/x-python",
   "name": "python",
   "nbconvert_exporter": "python",
   "pygments_lexer": "ipython3",
   "version": "3.8.12"
  }
 },
 "nbformat": 4,
 "nbformat_minor": 5
}
